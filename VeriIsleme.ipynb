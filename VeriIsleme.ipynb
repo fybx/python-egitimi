{
  "nbformat": 4,
  "nbformat_minor": 0,
  "metadata": {
    "colab": {
      "provenance": [],
      "authorship_tag": "ABX9TyMQCMUym8S5V3Edp03g0lOo",
      "include_colab_link": true
    },
    "kernelspec": {
      "name": "python3",
      "display_name": "Python 3"
    },
    "language_info": {
      "name": "python"
    }
  },
  "cells": [
    {
      "cell_type": "markdown",
      "metadata": {
        "id": "view-in-github",
        "colab_type": "text"
      },
      "source": [
        "<a href=\"https://colab.research.google.com/github/fybx/python-egitimi/blob/main/VeriIsleme.ipynb\" target=\"_parent\"><img src=\"https://colab.research.google.com/assets/colab-badge.svg\" alt=\"Open In Colab\"/></a>"
      ]
    },
    {
      "cell_type": "markdown",
      "source": [
        "# TFT & FTT Python Egitimi\n",
        "\n",
        "TFT, Uludag Teknoloji ve Felsefe Toplulugu Instagram: https://instagram.com/uludagtft\n",
        "\n",
        "FTT, Uludag Futuristik Tip Toplulugu Instagram: https://www.instagram.com/futuristiktip/\n",
        "\n",
        "## Veri Isleme ornek projesi\n",
        "\n",
        "Merhaba! Bu ornek projede, bir veri merkezinin ortam izleme ve kontrol sisteminin tuttugu gunluk verileri iceren bir metin belgesini okuyup Python'da isleyerek asagidaki hedefleri tamamlayacagiz:\n",
        "\n",
        "1. **ortalama ortam sicakligi**ni ve bazi istatistiksel degerleri tespit edecek\n",
        "2. veri noktalarinin zaman icerisindeki degisimini gosteren grafigi cikaracak\n",
        "3. bu grafikten elde edilenler dogrultusunda veri uzerinde gelistirilebilecek farkli yaklasimlari arastiracak\n",
        "4. saatlik ortalama sicakliklari bulmak icin yeni bir fonksiyon tasarlayacak\n",
        "4. **saatlik ortalama sicakliklari**n grafigini cikaracak"
      ],
      "metadata": {
        "id": "u9-hlyp_DBA0"
      }
    },
    {
      "cell_type": "markdown",
      "source": [
        "### Baslangic\n",
        "\n",
        "Baslamak icin oncelikle ihtiyacimiz olan kutuphaneleri Python calistirma ortamimiza dahil ediyoruz.\n",
        "\n",
        "1. `datetime` modulunden `datetime` ve `timedelta` adli iki nesne\n",
        "2. `matplotlib` modulunun `pyplot` nesnesini \"plt\" adiyla\n",
        "3. ve `csv` modulunun icerigi\n"
      ],
      "metadata": {
        "id": "NLvQRrGBEDCZ"
      }
    },
    {
      "cell_type": "code",
      "source": [
        "from datetime import datetime, timedelta\n",
        "import matplotlib.pyplot as plt\n",
        "import csv"
      ],
      "metadata": {
        "id": "5SsJ_6N3C1sk"
      },
      "execution_count": null,
      "outputs": []
    },
    {
      "cell_type": "markdown",
      "source": [
        "### Verinin Aktarimi\n",
        "\n",
        "Elimizdeki buyuk ve karisik veri kaynagini inceleyebilmek ve islemek icin su an icinde oldugumuz ve komutlarla kontrol ettigimiz bu ortama bir sekilde aktarmaliyiz. Bunun icin `open(dosya_adi, izinler)` seklinde cagirdigimiz bir fonksiyondan yardim alacagiz."
      ],
      "metadata": {
        "id": "mgsdf4bkEoWp"
      }
    },
    {
      "cell_type": "code",
      "source": [
        "dosya_adi = 'fan_control.log'\n",
        "with open(dosya_adi, 'r') as dosya:\n",
        "  satirlar = [satir for satir in dosya.readlines() if satir.replace('\\n', '')]\n",
        "print('Satir sayisi: ', len(satirlar))\n",
        "satirlar[0:4]"
      ],
      "metadata": {
        "id": "daS0ebzOE8wB"
      },
      "execution_count": null,
      "outputs": []
    },
    {
      "cell_type": "markdown",
      "source": [
        "### Veriyi Cikartmak: On Hazirlik\n",
        "\n",
        "Bu asamada elimizdeki devasa verinin gereksiz kisimlarindan kurtulmamiz, elimizdeki problemi cozmek icin yeterli olan kadarini ayristirmamiz gerekiyor.\n",
        "\n",
        "Butun bunlari yaparken dogru iliskideki verileri aldigimiza dikkat etmeliyiz, eger parametrelerimizi dogru belirleyemezsek ilerleyen asamalarda sorun yasayabilir, **daha kotusu** sorun yasamadigimiz icin hatali bulgular elde ederek gerceklikten uzak bir sonuca varabiliriz."
      ],
      "metadata": {
        "id": "-AqAC9OsGc_3"
      }
    },
    {
      "cell_type": "code",
      "source": [
        "zaman_damgalari, sicakliklar = [], []\n",
        "zaman_formati = '%Y-%m-%d %H:%M:%S'"
      ],
      "metadata": {
        "id": "XHLYDvz_HJWo"
      },
      "execution_count": null,
      "outputs": []
    },
    {
      "cell_type": "code",
      "source": [
        "for satir in satirlar:\n",
        "  if 'CPU Temperature' in satir:\n",
        "    zaman_damgasi = satir.split('] ')[0][1:]\n",
        "    sicaklik      = satir.split('CPU Temperature: ')[1][:-3]\n",
        "\n",
        "    zaman = datetime.strptime(zaman_damgasi, zaman_formati)\n",
        "    sicaklik = float(sicaklik[:-2])\n",
        "\n",
        "    zaman_damgalari.append(zaman)\n",
        "    sicakliklar.append(sicaklik)"
      ],
      "metadata": {
        "id": "HCyoFv5BHsRB"
      },
      "execution_count": null,
      "outputs": []
    },
    {
      "cell_type": "code",
      "source": [
        "gecerli_veri_kirli_veri_orani = len(sicakliklar) / len(satirlar) * 100\n",
        "print(f\"%{gecerli_veri_kirli_veri_orani:.3f}\")"
      ],
      "metadata": {
        "id": "93Ajo33rKBgU"
      },
      "execution_count": null,
      "outputs": []
    },
    {
      "cell_type": "markdown",
      "source": [
        "### Veri Uzerinde Calismak: Hedef 1\n",
        "\n",
        "Ortam izleme ve kontrol sisteminin calistigi sure boyunca biriktirdigi zaman ve sicaklik verisi uzerinden, bu genel veri setinin aritmetik ortalamasini bularak baslayalim.\n"
      ],
      "metadata": {
        "id": "XUnuBqQlIw4i"
      }
    },
    {
      "cell_type": "markdown",
      "source": [
        "#### Aritmetik Ortalama\n",
        "\n",
        "![](https://wikimedia.org/api/rest_v1/media/math/render/svg/66c77a2dae0af5783281635d538f0fde9b807589)"
      ],
      "metadata": {
        "id": "9DfAb2LXOKEb"
      }
    },
    {
      "cell_type": "code",
      "source": [
        "aritmetik_ortalama = sum(sicakliklar) / len(sicakliklar)\n",
        "print(f\"{aritmetik_ortalama:.2f}\")"
      ],
      "metadata": {
        "id": "ckT0mN5_J5nK"
      },
      "execution_count": null,
      "outputs": []
    },
    {
      "cell_type": "markdown",
      "source": [
        "#### Geometrik Ortalama\n",
        "\n",
        "![](https://wikimedia.org/api/rest_v1/media/math/render/svg/d8b67da21f4b58d3121ef21e0c5a9d040a6b65ce)"
      ],
      "metadata": {
        "id": "Gv1cG9q4KwJL"
      }
    },
    {
      "cell_type": "code",
      "source": [
        "def geometrik_ortalama(veri_noktalari):\n",
        "  n = len(veri_noktalari)\n",
        "  carpim = 1\n",
        "  for eleman in veri_noktalari:\n",
        "    carpim = carpim * eleman\n",
        "\n",
        "  return carpim ** (1 / n)"
      ],
      "metadata": {
        "id": "d6489Ng-K8Yy"
      },
      "execution_count": null,
      "outputs": []
    },
    {
      "cell_type": "code",
      "source": [
        "geometrik_ortalama(sicakliklar)"
      ],
      "metadata": {
        "id": "QAb5yAmdLhm-"
      },
      "execution_count": null,
      "outputs": []
    },
    {
      "cell_type": "code",
      "source": [
        "def geometrik_ortalama2(veri_noktalari):\n",
        "  n = len(veri_noktalari)\n",
        "  carpim = 1\n",
        "  for eleman in veri_noktalari:\n",
        "    carpim = carpim * (eleman ** (1 / n))\n",
        "\n",
        "  return carpim"
      ],
      "metadata": {
        "id": "1FgHb0mQMN5i"
      },
      "execution_count": null,
      "outputs": []
    },
    {
      "cell_type": "code",
      "source": [
        "geometrik_ortalama2(sicakliklar)"
      ],
      "metadata": {
        "id": "uAkaLf1-McT0"
      },
      "execution_count": null,
      "outputs": []
    },
    {
      "cell_type": "markdown",
      "source": [
        "### Veri Uzerinde Calismak: Gorsellestirme\n",
        "\n",
        "Elimizdeki upuzun bu bir boyutlu listeyi farkli sekillerde resmederek verinin sahip oldugu trendleri gorebilir, sirada hangi islemin oldugu ve ne yapmamiz gerektigine dair daha iyi bir izlenim edinebiliriz.\n",
        "\n",
        "Bunu bir labirentte dolasmak gibi (1-boyutlu) hayal edebilirsiniz. Bakis acinizi degistirebilseydiniz (kus bakisi baktiginizi dusunun, boylece 2-boyutlu bir veriyle ugrasmis olacaksiniz) labirenti cozmek inanilmaz hizli bir sekilde kisalirdi."
      ],
      "metadata": {
        "id": "9jidOF-3OMt_"
      }
    },
    {
      "cell_type": "code",
      "source": [
        "plt.figure(figsize=(24, 6))\n",
        "plt.scatter(zaman_damgalari, sicakliklar, marker='o')\n",
        "plt.xlabel('Tarih')\n",
        "plt.ylabel('CPU Sicakligi (°C)')\n",
        "plt.title('Zaman icerisinde CPU Sicaklik degisimi')\n",
        "plt.grid(True)\n",
        "plt.show()"
      ],
      "metadata": {
        "id": "PwRERkGpOwhc"
      },
      "execution_count": null,
      "outputs": []
    },
    {
      "cell_type": "markdown",
      "source": [
        "Korkunc bir goruntu ile karsi karsiyayiz, gorsellestirme her ne kadar yardimci olsa bile boyle bir goruntuden mana cikarabilmek oldukca zor.\n",
        "\n",
        "Ilk bakista bizi neden bu kadar yogun ve ust uste binmis bir grafigin karsiladigini anlamak guc olabilir ancak hizlica `satirlar` degiskeninde saklanan verilere goz atarsaniz (`satirlar[aralik_basi:aralik_sonu]`) ortam kontrol sisteminin sicaklik olcumlerini dakika basina yaptigini goreceksiniz.\n",
        "\n",
        "Dakika basina yapilan degisimler bu devasa veri seti icerisinde **yalnizca bir gunu** incelemek isteseydik faydali olabilirdi. Bizim hedefimiz ise gecen zaman icerisindeki genel trende dair bir ipucu edinebilmek.\n",
        "\n",
        "Oyleyse simdi, saatlik ortalamalari hesaplayan bir yontem gelistirerek grafigi iyilestirelim."
      ],
      "metadata": {
        "id": "77wNTXRQPO77"
      }
    },
    {
      "cell_type": "markdown",
      "source": [
        "### Veri Uzerinde Calismak: Anlam Arayisi\n",
        "\n",
        "Alacagi iki parametre (`zaman_damgalari` ve `sicakliklar` listeleri) uzerinden saatlik ortalamalari hesaplayacak bir fonksiyon tasarlayalim:\n",
        "\n",
        "Fonksiyonu tasarlamanin birinci ve en kritik asamasi algoritmanin netlestirilmesidir. Algoritmayi tasarlarken ise programlama dilini kullanmak gecerli bir tercih olabilse de kolaylik saglamasi acisindan Turkce bir sekilde ifade edebiliriz.\n",
        "\n",
        "#### Algoritma tasarimi\n",
        "\n",
        "Her bir veri noktasini, gun degerinden bagimsiz olarak SS:DD formunda dusunelim. Bir dongu yardimiyla elimizdeki her veri noktasinin, ondan bir sonra gelen saatten kucuk olup olmadigina bakarak hangi saat hanesine dustugune karar verebiliriz. Boylece efektif bicimde veri noktalarini yer aldiklari saat dilimlerine ayirabiliriz.\n",
        "\n",
        "Bu yaptigimiz aslinda nerede durmamiz gerektigini kontrol etmekten ibarettir. Eger durmamiz gereken noktaya vardiysak (toplamaya basladigimiz saatten bir sonrakine gecildiyse) simdiye dek topladigimiz degerleri, kac tane olduklarina bolerek o saatin ortalamasini alacagiz.\n",
        "\n",
        "#### Algoritmanin sozde-kodu\n",
        "\n",
        "```\n",
        "fonksiyon saatlik_ortalama (zaman_listesi, sicaklik_listesi) seklinde iki parametre alir\n",
        "\n",
        "    saatlik_ortalamalar = bos liste tanimla\n",
        "\n",
        "    su_an_saat = zaman_listesi'nde yer alan ilk saat  olarak ayarla\n",
        "    toplam_sicaklik = 0.0\n",
        "    toplam_nokta = 0\n",
        "\n",
        "    sicaklik_listesindeki her k. (k'inci) nokta icin:\n",
        "        eger k.inci nokta bir sonraki saatten kucukse:\n",
        "            toplam_sicaklik += k. sicaklik\n",
        "            toplam_nokta += 1\n",
        "        degilse\n",
        "            eger bu saat diliminde hic nokta yoksa\n",
        "                saatlik_ortalamalar listesine bu saatin bos oldugu ibaresini ekle (su_an_saat, None)\n",
        "            degilse\n",
        "                ortalama = toplam_sicaklik / toplam_nokta\n",
        "                saatlik_ortalamalar listesine saat ve ortalama bilgisini ekle (su_an_saat, ortalama)\n",
        "        \n",
        "        # siradaki saate gecilecek, degiskenleri hazirla\n",
        "        su_an_saat += 1\n",
        "        toplam_sicaklik = 0.0\n",
        "        toplam_nokta = 0\n",
        "    \n",
        "    # bu asamada tek bir eksik kalmakta:\n",
        "    # dongu icindeki tespit mekanizmamiz son saatten hemen oncesine kadar olan noktalari isleyebildi\n",
        "    # son saati de yukaridaki sekilde islemeliyiz\n",
        "\n",
        "    ortalama = toplam_sicaklik / toplam_nokta\n",
        "    saatlik_ortalamalar listesine saat ve ortalama bilgisini ekle (su_an_saat, ortalama)\n",
        "\n",
        "    saatlik_ortalamalar dondur\n",
        "```"
      ],
      "metadata": {
        "id": "tGUEJw4XQFRs"
      }
    },
    {
      "cell_type": "code",
      "source": [
        "def saatlik_ortalamayi_bul(zaman_listesi, sicaklik_listesi):\n",
        "  saatlik_ortalamalar = []\n",
        "  su_an_saat = zaman_listesi[0].replace(minute=0, second=0)\n",
        "\n",
        "  toplam_sicaklik = 0.0\n",
        "  toplam_nokta = 0\n",
        "\n",
        "  for k in range(len(sicaklik_listesi)):\n",
        "    if zaman_listesi[k] < su_an_saat + timedelta(hours=1):\n",
        "      toplam_sicaklik += sicaklik_listesi[k]\n",
        "      toplam_nokta +=1\n",
        "    else:\n",
        "      if toplam_nokta > 0:\n",
        "        ortalama = toplam_sicaklik / toplam_nokta\n",
        "        saatlik_ortalamalar.append((su_an_saat, ortalama))\n",
        "      else:\n",
        "        saatlik_ortalamalar.append((su_an_saat, None))\n",
        "\n",
        "      su_an_saat += timedelta(hours=1)\n",
        "      toplam_sicaklik = 0\n",
        "      toplam_nokta = 0\n",
        "\n",
        "  ortalama = toplam_sicaklik / toplam_nokta\n",
        "  saatlik_ortalamalar.append((su_an_saat, ortalama))\n",
        "  return saatlik_ortalamalar\n",
        ""
      ],
      "metadata": {
        "id": "16XcJ67_U2U_"
      },
      "execution_count": null,
      "outputs": []
    },
    {
      "cell_type": "code",
      "source": [
        "ortalamalar = saatlik_ortalamayi_bul(zaman_damgalari, sicakliklar)\n",
        "ortalamalar[0:12]"
      ],
      "metadata": {
        "id": "r3JOiwZ1WI_P"
      },
      "execution_count": null,
      "outputs": []
    },
    {
      "cell_type": "markdown",
      "source": [
        "### Veri ve Isleme: Final"
      ],
      "metadata": {
        "id": "VcJnTcjdWWsG"
      }
    },
    {
      "cell_type": "code",
      "source": [
        "nokta_saat, nokta_sicaklik = [], []\n",
        "for nokta in ortalamalar:\n",
        "  nokta_saat.append(nokta[0])\n",
        "  nokta_sicaklik.append(nokta[1])"
      ],
      "metadata": {
        "id": "0uvz1QbkWbes"
      },
      "execution_count": null,
      "outputs": []
    },
    {
      "cell_type": "code",
      "source": [
        "plt.figure(figsize=(24,6))\n",
        "plt.scatter(nokta_saat, nokta_sicaklik, marker='.')\n",
        "plt.xlabel('Tarih')\n",
        "plt.ylabel('CPU Sicakligi (°C)')\n",
        "plt.title('Zaman icerisinde CPU Sicaklik degisimi')\n",
        "plt.grid(True)\n",
        "plt.show()"
      ],
      "metadata": {
        "id": "x7cj_2B1W5du"
      },
      "execution_count": null,
      "outputs": []
    },
    {
      "cell_type": "markdown",
      "source": [
        "## Kapanis\n",
        "\n",
        "Ferit Yiğit BALABAN, <[fyb@fybx.dev][llmail]>\n",
        "\n",
        "[My Website][llwebsite] • [My Bento][llbento] • [X][llx] • [LinkedIn][lllinkedin]\n",
        "\n",
        "2024\n",
        "\n",
        "[llmail]: mailto:fyb@fybx.dev\n",
        "[llwebsite]: https://fybx.dev\n",
        "[llbento]: https://bento.me/balaban\n",
        "[llx]: https://x.com/fybalaban\n",
        "[lllinkedin]: https://linkedin.com/in/fybx"
      ],
      "metadata": {
        "id": "a8zHkRPcZx4m"
      }
    }
  ]
}